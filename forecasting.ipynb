{
 "cells": [
  {
   "cell_type": "markdown",
   "metadata": {},
   "source": [
    "# Peak Load Forecasting"
   ]
  },
  {
   "cell_type": "code",
   "execution_count": 1,
   "metadata": {},
   "outputs": [
    {
     "name": "stderr",
     "output_type": "stream",
     "text": [
      "/Users/suchunying/anaconda3/lib/python3.5/importlib/_bootstrap.py:222: RuntimeWarning: numpy.dtype size changed, may indicate binary incompatibility. Expected 96, got 88\n",
      "  return f(*args, **kwds)\n",
      "/Users/suchunying/anaconda3/lib/python3.5/importlib/_bootstrap.py:222: RuntimeWarning: numpy.dtype size changed, may indicate binary incompatibility. Expected 96, got 88\n",
      "  return f(*args, **kwds)\n",
      "/Users/suchunying/anaconda3/lib/python3.5/importlib/_bootstrap.py:222: RuntimeWarning: numpy.dtype size changed, may indicate binary incompatibility. Expected 96, got 88\n",
      "  return f(*args, **kwds)\n",
      "/Users/suchunying/anaconda3/lib/python3.5/importlib/_bootstrap.py:222: RuntimeWarning: numpy.dtype size changed, may indicate binary incompatibility. Expected 96, got 88\n",
      "  return f(*args, **kwds)\n",
      "Using TensorFlow backend.\n",
      "/Users/suchunying/anaconda3/lib/python3.5/importlib/_bootstrap.py:222: RuntimeWarning: numpy.dtype size changed, may indicate binary incompatibility. Expected 96, got 88\n",
      "  return f(*args, **kwds)\n",
      "/Users/suchunying/anaconda3/lib/python3.5/importlib/_bootstrap.py:222: RuntimeWarning: numpy.dtype size changed, may indicate binary incompatibility. Expected 96, got 88\n",
      "  return f(*args, **kwds)\n",
      "/Users/suchunying/anaconda3/lib/python3.5/importlib/_bootstrap.py:222: RuntimeWarning: numpy.dtype size changed, may indicate binary incompatibility. Expected 96, got 88\n",
      "  return f(*args, **kwds)\n"
     ]
    }
   ],
   "source": [
    "import pandas as pd\n",
    "import numpy as np\n",
    "import matplotlib.pyplot as plt\n",
    "import seaborn as sns \n",
    "from keras.models import Sequential,Model\n",
    "from keras.layers import Dense, Dropout, Activation, Flatten, LSTM, TimeDistributed, RepeatVector,Input\n",
    "from keras.optimizers import Adam\n",
    "from keras.callbacks import EarlyStopping, ModelCheckpoint\n",
    "from keras.utils import to_categorical\n",
    "from sklearn.preprocessing import MinMaxScaler\n",
    "from sklearn.metrics import mean_squared_error\n",
    "from keras.models import load_model\n",
    "import arrow"
   ]
  },
  {
   "cell_type": "markdown",
   "metadata": {},
   "source": [
    "## data exploration\n",
    "\n",
    "* 選擇只取用欄位含日期及尖峰負載的資料\n",
    "* 以2019年1/1~3/30的資料作為訓練集\n",
    "* 畫圖查看趨勢,可以發現曲線有規則的波動"
   ]
  },
  {
   "cell_type": "code",
   "execution_count": 3,
   "metadata": {
    "scrolled": true
   },
   "outputs": [
    {
     "data": {
      "text/html": [
       "<div>\n",
       "<style scoped>\n",
       "    .dataframe tbody tr th:only-of-type {\n",
       "        vertical-align: middle;\n",
       "    }\n",
       "\n",
       "    .dataframe tbody tr th {\n",
       "        vertical-align: top;\n",
       "    }\n",
       "\n",
       "    .dataframe thead th {\n",
       "        text-align: right;\n",
       "    }\n",
       "</style>\n",
       "<table border=\"1\" class=\"dataframe\">\n",
       "  <thead>\n",
       "    <tr style=\"text-align: right;\">\n",
       "      <th></th>\n",
       "      <th>date</th>\n",
       "      <th>尖峰負載(MW)</th>\n",
       "    </tr>\n",
       "  </thead>\n",
       "  <tbody>\n",
       "    <tr>\n",
       "      <th>0</th>\n",
       "      <td>2019-01-01</td>\n",
       "      <td>23872</td>\n",
       "    </tr>\n",
       "    <tr>\n",
       "      <th>1</th>\n",
       "      <td>2019-01-02</td>\n",
       "      <td>28148</td>\n",
       "    </tr>\n",
       "    <tr>\n",
       "      <th>2</th>\n",
       "      <td>2019-01-03</td>\n",
       "      <td>28452</td>\n",
       "    </tr>\n",
       "    <tr>\n",
       "      <th>3</th>\n",
       "      <td>2019-01-04</td>\n",
       "      <td>28490</td>\n",
       "    </tr>\n",
       "    <tr>\n",
       "      <th>4</th>\n",
       "      <td>2019-01-05</td>\n",
       "      <td>26054</td>\n",
       "    </tr>\n",
       "  </tbody>\n",
       "</table>\n",
       "</div>"
      ],
      "text/plain": [
       "         date  尖峰負載(MW)\n",
       "0  2019-01-01     23872\n",
       "1  2019-01-02     28148\n",
       "2  2019-01-03     28452\n",
       "3  2019-01-04     28490\n",
       "4  2019-01-05     26054"
      ]
     },
     "execution_count": 3,
     "metadata": {},
     "output_type": "execute_result"
    }
   ],
   "source": [
    "train = pd.read_csv('高峰值2019.csv')\n",
    "train.head()"
   ]
  },
  {
   "cell_type": "code",
   "execution_count": 4,
   "metadata": {},
   "outputs": [
    {
     "data": {
      "text/plain": [
       "<matplotlib.axes._subplots.AxesSubplot at 0x12c16a4a8>"
      ]
     },
     "execution_count": 4,
     "metadata": {},
     "output_type": "execute_result"
    },
    {
     "data": {
      "image/png": "[encoded data removed]",
      "text/plain": [
       "<Figure size 432x288 with 1 Axes>"
      ]
     },
     "metadata": {
      "needs_background": "light"
     },
     "output_type": "display_data"
    }
   ],
   "source": [
    "train.plot()"
   ]
  },
  {
   "cell_type": "markdown",
   "metadata": {},
   "source": [
    "## data preprocessing and feature selection\n",
    "\n",
    "### 製作訓練集\n",
    "\n",
    "* 將資料正規化\n",
    "* 利用前30天的 '尖峰負載(MW)' 作為X_train \n",
    "* 而未來7天的 '尖峰負載(MW)' 作為Y_train \n",
    "* 將資料打散，目的為使之不要按照日期排序影響訓練\n",
    "* 先預測3/31,4/1的電力高峰值 \n",
    "* 最後使用4/2前30天的資料讓模型預測最後得到預測結果"
   ]
  },
  {
   "cell_type": "code",
   "execution_count": 5,
   "metadata": {},
   "outputs": [],
   "source": [
    "def buildTrain(train):\n",
    "    X_train, Y_train = [], []\n",
    "    for i in range(train.shape[0]-37):\n",
    "        X_train.append(np.array(train.iloc[i:i+30]))\n",
    "        Y_train.append(np.array(train.iloc[i+30:i+37][\"尖峰負載(MW)\"]))\n",
    "    return np.array(X_train), np.array(Y_train)\n",
    "\n",
    "def shuffle(X,Y):\n",
    "    np.random.seed(10)\n",
    "    randomList = np.arange(X.shape[0])\n",
    "    np.random.shuffle(randomList)\n",
    "    return X[randomList], Y[randomList]\n",
    "\n",
    "def splitData(X,Y,rate):\n",
    "    X_train = X[int(X.shape[0]*rate):]\n",
    "    Y_train = Y[int(Y.shape[0]*rate):]\n",
    "    X_val = X[:int(X.shape[0]*rate)]\n",
    "    Y_val = Y[:int(Y.shape[0]*rate)]\n",
    "    return X_train, Y_train, X_val, Y_val"
   ]
  },
  {
   "cell_type": "code",
   "execution_count": 6,
   "metadata": {},
   "outputs": [],
   "source": [
    "scaler = MinMaxScaler(feature_range=(0, 1))\n",
    "train_norm = scaler.fit_transform(train.drop('date',axis=1))\n",
    "train_norm = pd.DataFrame(train_norm)\n",
    "train_norm['尖峰負載(MW)'] = train_norm[0]\n",
    "train_norm = train_norm.drop(0,axis=1)\n",
    "\n",
    "# build Data, use last 30 days to predict next 7 days\n",
    "X_train, Y_train = buildTrain(train_norm)\n",
    "\n",
    "# shuffle the data, and random seed is 10\n",
    "X_train, Y_train = shuffle(X_train, Y_train)"
   ]
  },
  {
   "cell_type": "markdown",
   "metadata": {},
   "source": [
    "## 選擇預測模型\n",
    "\n",
    "* 考慮資料有週期性,故選擇適合處理時間序列問題之模型LSTM(Long Short-Term Memory)\n",
    "* loss function 選擇 mean_absolute_error\n",
    "* optimizer 選擇 Adam\n",
    "* 並使用callback(EarlyStopping)"
   ]
  },
  {
   "cell_type": "code",
   "execution_count": 7,
   "metadata": {},
   "outputs": [],
   "source": [
    "def lstm_stock_model(shape):\n",
    "    model = Sequential()\n",
    "    model.add(LSTM(256, input_shape=(shape[1], shape[2]), return_sequences=True))\n",
    "    model.add(LSTM(256, return_sequences=True))\n",
    "    model.add(TimeDistributed(Dense(1)))\n",
    "    model.add(Flatten())\n",
    "    model.add(Dense(30,activation='linear'))\n",
    "    model.add(Dense(7,activation='linear'))\n",
    "    model.compile(loss=\"mean_absolute_error\", optimizer=\"adam\",metrics=['mean_absolute_error'])\n",
    "    model.summary()\n",
    "    return model"
   ]
  },
  {
   "cell_type": "markdown",
   "metadata": {},
   "source": [
    "### 將訓練好的模型儲存成my_model.h5"
   ]
  },
  {
   "cell_type": "code",
   "execution_count": 10,
   "metadata": {},
   "outputs": [],
   "source": [
    "#model = lstm_stock_model(X_train.shape)\n",
    "#callback = EarlyStopping(monitor=\"mean_absolute_error\", patience=10, verbose=1, mode=\"auto\")\n",
    "\n",
    "#history = model.fit(X_train, Y_train, epochs=1000, batch_size=5, validation_split=0.1, callbacks=[callback],shuffle=True)\n",
    "\n",
    "#plt.plot(history.history['loss'])\n",
    "#plt.plot(history.history['val_loss'])\n",
    "#plt.show()\n",
    "\n",
    "\n",
    "#Predict1 = model.predict(np.array(train_norm[54:84]).reshape((1,30,1)))\n",
    "#print(Predict1)\n",
    "\n",
    "#model.save('my_model.h5')"
   ]
  },
  {
   "cell_type": "markdown",
   "metadata": {},
   "source": [
    "### 讀入模型 並預測出3/31以及4/1的高峰值"
   ]
  },
  {
   "cell_type": "code",
   "execution_count": null,
   "metadata": {},
   "outputs": [],
   "source": [
    "model = load_model('my_model.h5')\n",
    "print('test after load: ', model.predict(np.array(train_norm[54:84]).reshape((1,30,1))))\n",
    "Predict1 = model.predict(np.array(train_norm[54:84]).reshape((1,30,1)))\n",
    "trainPredict = scaler.inverse_transform(Predict1)\n",
    "print(trainPredict)\n",
    "\n",
    "def get_date_range(start, limit, level='day',format='YYYY-MM-DD'):\n",
    "    start = arrow.get(start, format)  \n",
    "    result=(list(map(lambda dt: dt.format(format) , arrow.Arrow.range(level, start, \t\t   limit=limit))))\n",
    "    dateparse2 = lambda dates:pd.datetime.strptime(dates,'%Y-%m-%d')\n",
    "    return map(dateparse2, result)\n",
    "\n",
    "te = pd.DataFrame(trainPredict).T\n",
    "te.index = get_date_range('2019-03-26',7)\n",
    "print(te)\n",
    "train.index = pd.to_datetime(train['date'])\n",
    "plt.plot(train['尖峰負載(MW)'],color='blue')\n",
    "plt.plot(te,color='red')\n",
    "#plt.show()\n",
    "\n",
    "te['尖峰負載(MW)'] = te[0]\n",
    "te = te.drop(0,axis=1)\n",
    "train = train.append(te['2019-03-31':'2019-04-01'])\n",
    "data_new = train.drop('date',axis=1)\n",
    "#print(data_new)"
   ]
  },
  {
   "cell_type": "markdown",
   "metadata": {},
   "source": [
    "### 最後使用4/2前30天的資料讓模型預測 得到4/2-4/8的預測結果"
   ]
  },
  {
   "cell_type": "code",
   "execution_count": null,
   "metadata": {},
   "outputs": [],
   "source": [
    "train_norm1 = scaler.fit_transform(data_new)\n",
    "train_norm1 = pd.DataFrame(train_norm1)\n",
    "train_norm1['尖峰負載(MW)'] = train_norm1[0]\n",
    "train_norm1 = train_norm1.drop(0,axis=1)\n",
    "\n",
    "# build Data, use last 30 days to predict next 7 days\n",
    "X_train1, Y_train1 = buildTrain(train_norm1)\n",
    "\n",
    "# shuffle the data, and random seed is 10\n",
    "X_train1, Y_train1 = shuffle(X_train1, Y_train1)\n",
    "\n",
    "Predict2 = model.predict(np.array(train_norm1[61:91]).reshape((1,30,1)))\n",
    "trainPredict2 = scaler.inverse_transform(Predict2)\n",
    "#print(trainPredict2)\n",
    "\n",
    "answer = pd.DataFrame(trainPredict2).T\n",
    "answer['date'] = range(20190402,20190409)\n",
    "answer['peak_load(MW)'] = answer[0]\n",
    "answer = answer.drop(0,axis=1)\n",
    "print(answer)\n",
    "answer.to_csv('submission.csv',index=False)"
   ]
  }
 ],
 "metadata": {
  "kernelspec": {
   "display_name": "Python 3",
   "language": "python",
   "name": "python3"
  },
  "language_info": {
   "codemirror_mode": {
    "name": "ipython",
    "version": 3
   },
   "file_extension": ".py",
   "mimetype": "text/x-python",
   "name": "python",
   "nbconvert_exporter": "python",
   "pygments_lexer": "ipython3",
   "version": "3.5.6"
  }
 },
 "nbformat": 4,
 "nbformat_minor": 2
}
